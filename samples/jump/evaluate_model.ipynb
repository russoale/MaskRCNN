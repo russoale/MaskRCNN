{
 "cells": [
  {
   "cell_type": "code",
   "execution_count": 31,
   "metadata": {},
   "outputs": [],
   "source": [
    "import os\n",
    "import sys\n",
    "import random\n",
    "import math\n",
    "import re\n",
    "import time\n",
    "import numpy as np\n",
    "import tensorflow as tf\n",
    "import matplotlib\n",
    "import matplotlib.pyplot as plt\n",
    "import matplotlib.patches as patches\n",
    "\n",
    "# Root directory of the project\n",
    "ROOT_DIR = os.path.abspath(\"../../\")\n",
    "\n",
    "# Root directory to hdd\n",
    "DATA_DIR = os.path.abspath(\"/data/hdd\")\n",
    "\n",
    "# Import Mask RCNN\n",
    "sys.path.append(ROOT_DIR)  # To find local version of the library\n",
    "\n",
    "import mrcnn.model as modellib\n",
    "from mrcnn import data_generator\n",
    "from mrcnn import utils\n",
    "from mrcnn import visualize\n",
    "from mrcnn.model import log\n",
    "from mrcnn.load_weights import load_weights\n",
    "\n",
    "%matplotlib inline \n",
    "\n",
    "# Directory to save logs and trained model\n",
    "MODEL_DIR = os.path.join(DATA_DIR, \"russales\", \"test_logs\")\n",
    "\n",
    "# Local path to trained weights file\n",
    "JUMP_MODEL_PATH = os.path.join(DATA_DIR, \"russales\", \"logs\", \"jump20190413T1600\", \"mask_rcnn_jump_0160.h5\")"
   ]
  },
  {
   "cell_type": "markdown",
   "metadata": {},
   "source": [
    "## Notebook Preferences"
   ]
  },
  {
   "cell_type": "code",
   "execution_count": 32,
   "metadata": {},
   "outputs": [],
   "source": [
    "# Device to load the neural network on.\n",
    "# Useful if you're training a model on the same \n",
    "# machine, in which case use CPU and leave the\n",
    "# GPU for training.\n",
    "GPU_ID = \"0\"\n",
    "DEVICE = \"/gpu:{}\".format(GPU_ID)  # /cpu:0 or /gpu:0\n",
    "\n",
    "# Inspect the model in training or inference modes\n",
    "# values: 'inference' or 'training'\n",
    "# TODO: code for 'training' test mode not ready yet\n",
    "TEST_MODE = \"inference\"\n",
    "LIMIT = 0\n",
    "EVAL_TYPE = \"keypoints\"\n",
    "HEADS = \"keypoint\""
   ]
  },
  {
   "cell_type": "code",
   "execution_count": 33,
   "metadata": {},
   "outputs": [],
   "source": [
    "def get_ax(rows=1, cols=1, size=16):\n",
    "    \"\"\"Return a Matplotlib Axes array to be used in\n",
    "    all visualizations in the notebook. Provide a\n",
    "    central point to control graph sizes.\n",
    "    \n",
    "    Adjust the size attribute to control how big to render images\n",
    "    \"\"\"\n",
    "    _, ax = plt.subplots(rows, cols, figsize=(size*cols, size*rows))\n",
    "    return ax"
   ]
  },
  {
   "cell_type": "markdown",
   "metadata": {},
   "source": [
    "## Configuration"
   ]
  },
  {
   "cell_type": "code",
   "execution_count": 34,
   "metadata": {},
   "outputs": [
    {
     "name": "stdout",
     "output_type": "stream",
     "text": [
      "\n",
      "Configurations:\n",
      "BACKBONE                       resnet50\n",
      "BACKBONE_STRIDES               [4, 8, 16, 32, 64]\n",
      "BATCH_SIZE                     1\n",
      "BBOX_STD_DEV                   [0.1 0.1 0.2 0.2]\n",
      "COMPUTE_BACKBONE_SHAPE         None\n",
      "DETECTION_MAX_INSTANCES        25\n",
      "DETECTION_MIN_CONFIDENCE       0\n",
      "DETECTION_NMS_THRESHOLD        0.3\n",
      "FPN_CLASSIF_FC_LAYERS_SIZE     1024\n",
      "GPU_COUNT                      1\n",
      "GRADIENT_CLIP_NORM             5.0\n",
      "IMAGES_PER_GPU                 1\n",
      "IMAGE_CHANNEL_COUNT            3\n",
      "IMAGE_MAX_DIM                  1024\n",
      "IMAGE_META_SIZE                14\n",
      "IMAGE_MIN_DIM                  800\n",
      "IMAGE_MIN_SCALE                0\n",
      "IMAGE_RESIZE_MODE              square\n",
      "IMAGE_SHAPE                    [1024 1024    3]\n",
      "KEYPOINT_LOSS_WEIGHTING        True\n",
      "KEYPOINT_MASK_POOL_SIZE        14\n",
      "KEYPOINT_MASK_SHAPE            [56, 56]\n",
      "KEYPOINT_THRESHOLD             0.005\n",
      "LEARNING_MOMENTUM              0.9\n",
      "LEARNING_RATE                  0.001\n",
      "LOSS_WEIGHTS                   {'mrcnn_mask_loss': 1.0, 'rpn_bbox_loss': 1.0, 'rpn_class_loss': 1.0, 'mrcnn_keypoint_loss': 1.0, 'mrcnn_bbox_loss': 1.0, 'mrcnn_class_loss': 1.0}\n",
      "MASK_POOL_SIZE                 14\n",
      "MASK_SHAPE                     [28, 28]\n",
      "MAX_GT_INSTANCES               128\n",
      "MEAN_PIXEL                     [123.7 116.8 103.9]\n",
      "MINI_MASK_SHAPE                (56, 56)\n",
      "NAME                           jump\n",
      "NUM_CLASSES                    2\n",
      "NUM_KEYPOINTS                  20\n",
      "PART_STR                       ['head', 'neck', 'r_shoulder', 'r_elbow', 'r_wrist', 'r_hand', 'l_shoulder', 'l_elbow', 'l_wrist', 'l_hand', 'r_hip', 'r_knee', 'r_ankle', 'r_heel', 'r_toetip', 'l_hip', 'l_knee', 'l_ankle', 'l_heel', 'l_toetip']\n",
      "POOL_SIZE                      7\n",
      "POST_NMS_ROIS_INFERENCE        1000\n",
      "POST_NMS_ROIS_TRAINING         2000\n",
      "PRE_NMS_LIMIT                  6000\n",
      "ROI_POSITIVE_RATIO             0.33\n",
      "RPN_ANCHOR_RATIOS              [0.5, 1, 2]\n",
      "RPN_ANCHOR_SCALES              (32, 64, 128, 256, 512)\n",
      "RPN_ANCHOR_STRIDE              1\n",
      "RPN_BBOX_STD_DEV               [0.1 0.1 0.2 0.2]\n",
      "RPN_NMS_THRESHOLD              0.7\n",
      "RPN_TRAIN_ANCHORS_PER_IMAGE    150\n",
      "STEPS_PER_EPOCH                704\n",
      "TOP_DOWN_PYRAMID_SIZE          256\n",
      "TRAINING_HEADS                 keypoint\n",
      "TRAIN_BN                       False\n",
      "TRAIN_ROIS_PER_IMAGE           30\n",
      "USE_MINI_MASK                  True\n",
      "USE_RPN_ROIS                   True\n",
      "VALIDATION_STEPS               49\n",
      "WEIGHT_DECAY                   0.0001\n",
      "\n",
      "\n"
     ]
    }
   ],
   "source": [
    "import jump\n",
    "class InferenceConfig(jump.JumpConfig):\n",
    "\n",
    "    # Set batch size to 1 since we'll be running inference on\n",
    "    # one image at a time. Batch size = GPU_COUNT * IMAGES_PER_GPU\n",
    "    GPU_COUNT = 1\n",
    "    IMAGES_PER_GPU = 1\n",
    "    DETECTION_MIN_CONFIDENCE = 0\n",
    "    TRAINING_HEADS = HEADS\n",
    "\n",
    "\n",
    "config = InferenceConfig()\n",
    "config.display()"
   ]
  },
  {
   "cell_type": "markdown",
   "metadata": {},
   "source": [
    "## Load Dataset"
   ]
  },
  {
   "cell_type": "code",
   "execution_count": 35,
   "metadata": {},
   "outputs": [
    {
     "name": "stdout",
     "output_type": "stream",
     "text": [
      "loading annotations into memory...\n",
      "Done (t=0.03s)\n",
      "creating index...\n",
      "index created!\n",
      "Skeleton: (0,)\n",
      "Keypoint names: (20,)\n",
      "Test Keypoints Image Count: 918\n",
      "Test Keypoints Class Count: 2\n",
      "  0. BG                                                \n",
      "  1. person                                            \n"
     ]
    }
   ],
   "source": [
    "# Test dataset\n",
    "JUMP_DIR = os.path.join(DATA_DIR, \"russales\", \"JumpDataset\", \"mscoco_format\")\n",
    "dataset_test = jump.JumpDataset()\n",
    "jump_dataset = dataset_test.load_jump(JUMP_DIR, \"test\", return_jump=True)\n",
    "dataset_test.prepare()\n",
    "\n",
    "print(\"Test Keypoints Image Count: {}\".format(len(dataset_test.image_ids)))\n",
    "print(\"Test Keypoints Class Count: {}\".format(dataset_test.num_classes))\n",
    "for i, info in enumerate(dataset_test.class_info):\n",
    "    print(\"{:3}. {:50}\".format(i, info['name']))"
   ]
  },
  {
   "cell_type": "markdown",
   "metadata": {},
   "source": [
    "## Load Model"
   ]
  },
  {
   "cell_type": "code",
   "execution_count": 36,
   "metadata": {},
   "outputs": [
    {
     "name": "stdout",
     "output_type": "stream",
     "text": [
      "Loading weights  /data/hdd/russales/logs/jump20190413T1600/mask_rcnn_jump_0160.h5\n",
      "Re-starting from epoch 160\n"
     ]
    }
   ],
   "source": [
    "# Create model in inference mode\n",
    "import os\n",
    "os.environ[\"CUDA_DEVICE_ORDER\"] = \"PCI_BUS_ID\"\n",
    "os.environ[\"CUDA_VISIBLE_DEVICES\"] = GPU_ID\n",
    "\n",
    "with tf.device(DEVICE):\n",
    "    model = modellib.MaskRCNN(mode=TEST_MODE, config=config, model_dir=MODEL_DIR)\n",
    "\n",
    "# Load weights\n",
    "print(\"Loading weights \", JUMP_MODEL_PATH)\n",
    "load_weights(model, JUMP_MODEL_PATH, by_name=True, include_optimizer=False)"
   ]
  },
  {
   "cell_type": "markdown",
   "metadata": {},
   "source": [
    "## Evaluation"
   ]
  },
  {
   "cell_type": "code",
   "execution_count": 37,
   "metadata": {},
   "outputs": [],
   "source": [
    "def build_jump_results(dataset, image_ids, result):\n",
    "    # Arrange resutls to match COCO specs in http://cocodataset.org/#format\n",
    "    # If no results, return an empty list\n",
    "\n",
    "    if result[\"bboxes\"] is None:\n",
    "        return []\n",
    "\n",
    "    rois = result[\"bboxes\"]\n",
    "    class_ids = result[\"class_ids\"]\n",
    "    scores = result[\"scores\"]\n",
    "    masks = None\n",
    "    keypoints = None\n",
    "\n",
    "    if \"masks\" in result:\n",
    "        masks = result[\"masks\"].astype(np.uint8)\n",
    "\n",
    "    if \"keypoints\" in result:\n",
    "        keypoints = result[\"keypoints\"]\n",
    "\n",
    "    results = []\n",
    "    for image_id in image_ids:\n",
    "        # Loop through detections\n",
    "        for i in range(rois.shape[0]):\n",
    "            class_id = class_ids[i]\n",
    "            score = scores[i]\n",
    "            bbox = np.around(rois[i], 1)\n",
    "\n",
    "            result = {\n",
    "                \"image_id\": image_id,\n",
    "                \"category_id\": dataset.get_source_class_id(class_id, \"jump\"),\n",
    "                \"bbox\": [bbox[1], bbox[0], bbox[3] - bbox[1], bbox[2] - bbox[0]],\n",
    "                \"score\": score\n",
    "            }\n",
    "\n",
    "            if masks is not None:\n",
    "                mask = masks[:, :, i]\n",
    "                result[\"segmentation\"] = maskUtils.encode(np.asfortranarray(mask))\n",
    "            if keypoints is not None:\n",
    "                keypoint = keypoints[i, :, :].flatten().tolist()\n",
    "                result[\"keypoints\"] = keypoint\n",
    "\n",
    "            results.append(result)\n",
    "    return results\n",
    "\n",
    "\n",
    "def evaluate_jump(model, dataset, jump, eval_type=\"bbox\", limit=0, image_ids=None, training_heads=None):\n",
    "    \"\"\"Runs a jump evaluation.\n",
    "\n",
    "        model: MaskRCNN model for inference\n",
    "        dataset: A Dataset object with valiadtion data\n",
    "        jump: JUMP class to load annotations and result\n",
    "        eval_type: 'segm', 'bbox' (official COCO evaluation) or 'keypoints' for jump evaluation\n",
    "        limit: if not 0, it's the number of images to use for evaluation\n",
    "    \"\"\"\n",
    "\n",
    "    # Pick image_ids from the dataset\n",
    "    image_ids = image_ids or dataset.image_ids\n",
    "\n",
    "    if eval_type == 'segm':\n",
    "        # filter annotations for existing masks\n",
    "        valid_ids = []\n",
    "        for id in image_ids:\n",
    "            _, _, mask_train = dataset.load_mask(id)\n",
    "            if mask_train == 1:\n",
    "                valid_ids.append(id)\n",
    "        image_ids = valid_ids\n",
    "\n",
    "    # Limit to a subset\n",
    "    if limit and limit < len(image_ids):\n",
    "        image_ids = image_ids[:limit]\n",
    "\n",
    "    # Get corresponding COCO image IDs.\n",
    "    jump_image_ids = [dataset.image_info[id][\"id\"] for id in image_ids]\n",
    "\n",
    "    t_prediction = 0\n",
    "    t_start = time.time()\n",
    "\n",
    "    results = []\n",
    "    total_image_count = len(image_ids)\n",
    "    next_prgress = 0\n",
    "    for i, image_id in enumerate(image_ids):\n",
    "        # print progress\n",
    "        progress = int(100 * (i / total_image_count))\n",
    "        if next_prgress != progress:\n",
    "            next_prgress = progress\n",
    "            print('\\r[{0}{1}] {2}%'.format('#' * progress, \" \" * (100 - progress), progress), end=' ', flush=True)\n",
    "\n",
    "        # Load image\n",
    "        image = dataset.load_image(image_id)\n",
    "\n",
    "        # Run detection\n",
    "        t = time.time()\n",
    "        if training_heads == \"keypoint\":\n",
    "            r = model.detect_keypoint([image], verbose=0)[0]\n",
    "        elif training_heads == \"mask\":\n",
    "            r = model.detect_mask([image], verbose=0)[0]\n",
    "        else:\n",
    "            r = model.detect([image], verbose=0)[0]\n",
    "\n",
    "        t_prediction += (time.time() - t)\n",
    "\n",
    "        # Convert results to COCO format\n",
    "        # Cast masks to uint8 because COCO tools errors out on bool\n",
    "        image_results = build_jump_results(dataset, jump_image_ids[i:i + 1], r)\n",
    "        results.extend(image_results)\n",
    "\n",
    "    print(\"\")\n",
    "    if training_heads == \"mask\":\n",
    "\n",
    "        results = [i for i in results if i['segmentation']['counts'] != bytes(b'PPYo1')]\n",
    "        if results:\n",
    "            # Load results. This modifies results with additional attributes.\n",
    "            jump_results = jump.loadRes(results)\n",
    "\n",
    "            # Evaluate\n",
    "            from pycocotools.cocoeval import COCOeval\n",
    "            cocoEval = COCOeval(cocoGt=jump, cocoDt=jump_results, iouType=eval_type)\n",
    "            cocoEval.params.imgIds = jump_image_ids\n",
    "            cocoEval.evaluate()\n",
    "            cocoEval.accumulate()\n",
    "            cocoEval.summarize()\n",
    "\n",
    "    if training_heads == \"keypoint\":\n",
    "        import samples.jump.pose_metrics\n",
    "        from samples.jump.bisp_joint_order import JumpJointOrder\n",
    "\n",
    "        predictions = []\n",
    "        annotations = []\n",
    "        for result in results:\n",
    "            predictions.append(samples.jump.pose_metrics.np.array(result[\"keypoints\"]).reshape((1, 20, 3)))\n",
    "            annotations.append(samples.jump.pose_metrics.np.array(\n",
    "                [i for i in dataset.image_info if i['id'] == result['image_id']][0][\"annotations\"][0][\n",
    "                    \"keypoints\"]).reshape((1, 20, 3)))\n",
    "\n",
    "        norm_distance = samples.jump.pose_metrics.pck_normalized_distances_fast(np.asarray(predictions).squeeze(),\n",
    "                                                                                np.asarray(annotations).squeeze(),\n",
    "                                                                                ref_length_indices=(\n",
    "                                                                                    JumpJointOrder.l_shoulder,\n",
    "                                                                                    JumpJointOrder.r_hip))\n",
    "        # filter norm_distance for invalid flags\n",
    "        norm_distance = np.where(norm_distance > 0, norm_distance, -1)\n",
    "\n",
    "        # plot\n",
    "        pck_thresholds, pck_scores = samples.jump.pose_metrics.pck_scores_from_normalized_distances(norm_distance)\n",
    "\n",
    "        import matplotlib.pyplot as plt\n",
    "        plt.plot(pck_thresholds, pck_scores)\n",
    "        plt.xlabel('PCK thresholds')\n",
    "        plt.ylabel('PCK scores')\n",
    "        plt.axis([0, pck_thresholds.max(), 0, pck_scores.max()])\n",
    "        plt.show()\n",
    "\n",
    "        score = samples.jump.pose_metrics.pck_score_at_threshold(pck_thresholds, pck_scores, 0.2)\n",
    "        print(\"Avg. PCK {}\".format(score))\n",
    "\n",
    "    print(\"----------------------------------\")\n",
    "    print(\"Prediction time: {}. Average {}/image\".format(t_prediction, t_prediction / len(image_ids)))\n",
    "    print(\"Total time: \", time.time() - t_start)\n"
   ]
  },
  {
   "cell_type": "code",
   "execution_count": 38,
   "metadata": {},
   "outputs": [
    {
     "name": "stdout",
     "output_type": "stream",
     "text": [
      "[################################################################################################### ] 99% \n"
     ]
    },
    {
     "data": {
      "image/png": "[encoded data removed]",
      "text/plain": [
       "<Figure size 432x288 with 1 Axes>"
      ]
     },
     "metadata": {
      "needs_background": "light"
     },
     "output_type": "display_data"
    },
    {
     "name": "stdout",
     "output_type": "stream",
     "text": [
      "Avg. PCK 0.9052319309600863\n",
      "----------------------------------\n",
      "Prediction time: 293.83032298088074. Average 0.32007660455433634/image\n",
      "Total time:  389.1849241256714\n"
     ]
    }
   ],
   "source": [
    " evaluate_jump(model, dataset_test, jump_dataset, EVAL_TYPE, limit=LIMIT, training_heads=HEADS)"
   ]
  },
  {
   "cell_type": "code",
   "execution_count": null,
   "metadata": {},
   "outputs": [],
   "source": []
  }
 ],
 "metadata": {
  "kernelspec": {
   "display_name": "tf1-12-gpu",
   "language": "python",
   "name": "tf1-12-gpu"
  },
  "language_info": {
   "codemirror_mode": {
    "name": "ipython",
    "version": 3
   },
   "file_extension": ".py",
   "mimetype": "text/x-python",
   "name": "python",
   "nbconvert_exporter": "python",
   "pygments_lexer": "ipython3",
   "version": "3.5.2"
  }
 },
 "nbformat": 4,
 "nbformat_minor": 2
}
